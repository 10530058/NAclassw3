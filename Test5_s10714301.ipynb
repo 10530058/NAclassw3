{
 "cells": [
  {
   "cell_type": "markdown",
   "metadata": {},
   "source": [
    "The problem is:\n",
    "\n",
    "function: $$f(x)=x^2$$\n",
    "\n",
    "Intervall: $ f:[a,b] $ n=4"
   ]
  },
  {
   "cell_type": "markdown",
   "metadata": {},
   "source": [
    "Let $ f:[0,2]\\rightarrow R $ be a function defined on a closed interval $ [0,2] $ of the real numbers, $R$ , and\n",
    "$$ P=\\left\\{[x_{0},x_{1}],[x_{1},x_{2}],[x_{2},x_{3}],[x_{3},x_{4}]\\right\\}$$,\n",
    "be a partition of I, where\n",
    "$$0=x_{0}<x_{1}<x_{2}<x_{3}<x_{4}=2$$.\n",
    "A Riemann sum $S$ of $f$ over $I$ with partition $P$ is defined as\n",
    "$$ S=\\sum _{i=1}^{4}f(x_{i}^{*})\\,\\Delta x_{i} $$\n",
    "where $\\Delta x_{i}=x_{i}-x_{i-1}  \\Delta x_{i}=x_{i}-x_{i-1}$ and an $ x_{i}^{*}\\in [x_{i-1},x_{i}]$, the choice of $x_{i}^{*}$ in the interval $ [x_{i-1},x_{i}]$ is arbitrary,."
   ]
  },
  {
   "cell_type": "code",
   "execution_count": 99,
   "metadata": {},
   "outputs": [],
   "source": [
    "import numpy as np\n",
    "import matplotlib.pyplot as plt"
   ]
  },
  {
   "cell_type": "code",
   "execution_count": 100,
   "metadata": {},
   "outputs": [
    {
     "data": {
      "text/plain": [
       "array([0. , 0.5, 1. , 1.5, 2. ])"
      ]
     },
     "execution_count": 100,
     "metadata": {},
     "output_type": "execute_result"
    }
   ],
   "source": [
    "a=0\n",
    "b=2\n",
    "n=4\n",
    "deltax=(b-a)/n\n",
    "deltax\n",
    "# evenly sampled time at delta x intervals\n",
    "#x = np.arange(a, b+deltax, deltax)\n",
    "x = np.linspace(a, b, n+1)\n",
    "x"
   ]
  },
  {
   "cell_type": "code",
   "execution_count": 101,
   "metadata": {},
   "outputs": [
    {
     "data": {
      "image/png": "[encoded data removed]",
      "text/plain": [
       "<Figure size 432x288 with 1 Axes>"
      ]
     },
     "metadata": {},
     "output_type": "display_data"
    }
   ],
   "source": [
    "x = np.linspace(-3, 3, 50)\n",
    "y1 = x**2\n",
    "\n",
    "plt.figure()\n",
    "#set x limits\n",
    "plt.xlim((0, 2))\n",
    "plt.ylim((0, 5))\n",
    "\n",
    "# set new sticks\n",
    "new_sticks = np.linspace(0, 2, 5)\n",
    "plt.xticks(new_sticks)\n",
    "# set tick labels\n",
    "plt.yticks(np.arange(0, 5, step=1))\n",
    "\n",
    "# set line styles\n",
    "l1, = plt.plot(x, y1, label='f(x)= x^2')\n",
    "plt.legend(loc='upper left')\n",
    "\n",
    "plt.show()"
   ]
  },
  {
   "cell_type": "markdown",
   "metadata": {},
   "source": [
    "Left Riemann sum"
   ]
  },
  {
   "cell_type": "code",
   "execution_count": 102,
   "metadata": {},
   "outputs": [
    {
     "data": {
      "image/png": "[encoded data removed]",
      "text/plain": [
       "<Figure size 432x288 with 1 Axes>"
      ]
     },
     "metadata": {},
     "output_type": "display_data"
    }
   ],
   "source": [
    "# red dashes, blue squares and green triangles\n",
    "\n",
    "x = np.linspace(0, 2, 50)\n",
    "y = x**2\n",
    "\n",
    "plt.figure()\n",
    "#set x limits\n",
    "plt.xlim((0, 2))\n",
    "#set y limits\n",
    "plt.ylim((0, 4))\n",
    "\n",
    "# set new sticks\n",
    "new_sticks = np.linspace(0, 2, 5)\n",
    "plt.xticks(new_sticks)\n",
    "# set tick labels\n",
    "plt.yticks(np.arange(0, 5, step=1))\n",
    "\n",
    "# set line styles\n",
    "l1, = plt.plot(x, y, color='black', linewidth=1.0, linestyle='--', label='f(x)= x^2')\n",
    "plt.legend(loc='upper left')\n",
    "\n",
    "x1=[0.5, 1.0, 1.5, 2.0]\n",
    "y1=np.power(x1,2)\n",
    "plt.bar(x1, y1,align='edge',width=1, color='white', edgecolor='blue')\n",
    "plt.show()"
   ]
  },
  {
   "cell_type": "code",
   "execution_count": 103,
   "metadata": {},
   "outputs": [
    {
     "data": {
      "text/plain": [
       "array([0. , 0.5, 1. , 1.5])"
      ]
     },
     "execution_count": 103,
     "metadata": {},
     "output_type": "execute_result"
    }
   ],
   "source": [
    "x = np.arange(a, b, deltax)\n",
    "x"
   ]
  },
  {
   "cell_type": "code",
   "execution_count": 104,
   "metadata": {},
   "outputs": [
    {
     "data": {
      "text/plain": [
       "1.5"
      ]
     },
     "execution_count": 104,
     "metadata": {},
     "output_type": "execute_result"
    }
   ],
   "source": [
    "y1=x\n",
    "deltax*np.sum(y1)"
   ]
  },
  {
   "cell_type": "markdown",
   "metadata": {},
   "source": [
    "Right Riemann sum:"
   ]
  },
  {
   "cell_type": "code",
   "execution_count": 105,
   "metadata": {},
   "outputs": [
    {
     "data": {
      "image/png": "[encoded data removed]",
      "text/plain": [
       "<Figure size 432x288 with 1 Axes>"
      ]
     },
     "metadata": {},
     "output_type": "display_data"
    }
   ],
   "source": [
    "# red dashes, blue squares and green triangles\n",
    "\n",
    "x = np.linspace(0, 2, 50)\n",
    "y = x**2\n",
    "\n",
    "plt.figure()\n",
    "#set x limits\n",
    "plt.xlim((0, 2))\n",
    "#set y limits\n",
    "plt.ylim((0, 4))\n",
    "\n",
    "# set new sticks\n",
    "new_sticks = np.linspace(0, 2, 5)\n",
    "plt.xticks(new_sticks)\n",
    "# set tick labels\n",
    "plt.yticks(np.arange(0, 5, step=1))\n",
    "\n",
    "# set line styles\n",
    "l1, = plt.plot(x, y, color='black', linewidth=1.0, linestyle='--', label='f(x)= x^2')\n",
    "plt.legend(loc='upper left')\n",
    "\n",
    "x1=[0.5, 1.0, 1.5, 2.0]\n",
    "y1=np.power(x1,2)\n",
    "plt.bar(x1, y1,align='center',width=1, color='white', edgecolor='blue')\n",
    "plt.show()"
   ]
  },
  {
   "cell_type": "code",
   "execution_count": 106,
   "metadata": {},
   "outputs": [
    {
     "data": {
      "text/plain": [
       "array([0.5, 1. , 1.5, 2. ])"
      ]
     },
     "execution_count": 106,
     "metadata": {},
     "output_type": "execute_result"
    }
   ],
   "source": [
    "x = np.arange(a+deltax, b+deltax, deltax)\n",
    "x"
   ]
  },
  {
   "cell_type": "code",
   "execution_count": 107,
   "metadata": {},
   "outputs": [
    {
     "data": {
      "text/plain": [
       "2.5"
      ]
     },
     "execution_count": 107,
     "metadata": {},
     "output_type": "execute_result"
    }
   ],
   "source": [
    "y1=x\n",
    "deltax*np.sum(y1)"
   ]
  },
  {
   "cell_type": "markdown",
   "metadata": {},
   "source": [
    "Approximating f at the midpoint of intervals gives $ f(0 +\\Delta x/2) $  for the first interval, for the next one $ f(0 + 3\\Delta x/2)$, and so on until $f(2 − \\Delta x/2)$. \n",
    "Summing up the areas gives\n",
    "$$ \\Delta x\\left[ f(0+ {\\tfrac {\\Delta x}{2}} )+f(0+{\\tfrac {3\\,\\Delta x}{2}})+f(2-{\\tfrac {3\\,\\Delta x}{2}})+f( 2-{\\tfrac {\\Delta x}{2}} ) \\right] $$"
   ]
  },
  {
   "cell_type": "code",
   "execution_count": 108,
   "metadata": {},
   "outputs": [
    {
     "data": {
      "text/plain": [
       "array([0.25, 0.75, 1.25, 1.75])"
      ]
     },
     "execution_count": 108,
     "metadata": {},
     "output_type": "execute_result"
    }
   ],
   "source": [
    "x = np.arange(a+deltax/2, b, deltax)\n",
    "x"
   ]
  },
  {
   "cell_type": "code",
   "execution_count": 109,
   "metadata": {},
   "outputs": [
    {
     "data": {
      "text/plain": [
       "2.0"
      ]
     },
     "execution_count": 109,
     "metadata": {},
     "output_type": "execute_result"
    }
   ],
   "source": [
    "y1=x\n",
    "deltax*np.sum(y1)"
   ]
  },
  {
   "cell_type": "code",
   "execution_count": 114,
   "metadata": {},
   "outputs": [
    {
     "ename": "SyntaxError",
     "evalue": "invalid syntax (<ipython-input-114-bdfcc1f700f1>, line 23)",
     "output_type": "error",
     "traceback": [
      "\u001b[1;36m  File \u001b[1;32m\"<ipython-input-114-bdfcc1f700f1>\"\u001b[1;36m, line \u001b[1;32m23\u001b[0m\n\u001b[1;33m    y1=**2\u001b[0m\n\u001b[1;37m        ^\u001b[0m\n\u001b[1;31mSyntaxError\u001b[0m\u001b[1;31m:\u001b[0m invalid syntax\n"
     ]
    }
   ],
   "source": [
    "# red dashes, blue squares and green triangles\n",
    "\n",
    "x = np.linspace(0, 2, 50)\n",
    "y = x**2\n",
    "\n",
    "plt.figure()\n",
    "#set x limits\n",
    "plt.xlim((0, 2))\n",
    "#set y limits\n",
    "plt.ylim((0, 4))\n",
    "\n",
    "# set new sticks\n",
    "new_sticks = np.linspace(0, 2, 5)\n",
    "plt.xticks(new_sticks)\n",
    "# set tick labels\n",
    "plt.yticks(np.arange(0, 5, step=1))\n",
    "\n",
    "# set line styles\n",
    "l1, = plt.plot(x, y, color='black', linewidth=1.0, linestyle='--', label='f(x)= x^2')\n",
    "plt.legend(loc='upper left')\n",
    "\n",
    "x= np.arange(a+deltax/2, b, deltax)\n",
    "y1=**2\n",
    "plt.bar(x1, y1,align='center',width=1, color='white', edgecolor='blue')\n",
    "plt.show()"
   ]
  },
  {
   "cell_type": "code",
   "execution_count": null,
   "metadata": {},
   "outputs": [],
   "source": []
  }
 ],
 "metadata": {
  "kernelspec": {
   "display_name": "Python 3",
   "language": "python",
   "name": "python3"
  },
  "language_info": {
   "codemirror_mode": {
    "name": "ipython",
    "version": 3
   },
   "file_extension": ".py",
   "mimetype": "text/x-python",
   "name": "python",
   "nbconvert_exporter": "python",
   "pygments_lexer": "ipython3",
   "version": "3.6.5"
  }
 },
 "nbformat": 4,
 "nbformat_minor": 2
}
